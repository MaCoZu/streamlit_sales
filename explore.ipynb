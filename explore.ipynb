{
 "cells": [
  {
   "cell_type": "code",
   "execution_count": 15,
   "metadata": {},
   "outputs": [],
   "source": [
    "import pandas as pd\n",
    "import functions as f\n",
    "\n",
    "import warnings\n",
    "warnings.filterwarnings('ignore')"
   ]
  },
  {
   "cell_type": "code",
   "execution_count": 21,
   "metadata": {},
   "outputs": [
    {
     "data": {
      "text/plain": [
       "Index(['Date', 'Store', 'DayOfWeek', 'Sales', 'Customers', 'Open', 'Promo',\n",
       "       'StateHoliday', 'SchoolHoliday', 'StoreType', 'Assortment',\n",
       "       'CompetitionDistance', 'Promo2', 'Promo2SinceWeek', 'Promo2SinceYear',\n",
       "       'PromoInterval', 'Competition_Since_X_months'],\n",
       "      dtype='object')"
      ]
     },
     "execution_count": 21,
     "metadata": {},
     "output_type": "execute_result"
    }
   ],
   "source": [
    "df.columns"
   ]
  },
  {
   "cell_type": "code",
   "execution_count": 23,
   "metadata": {},
   "outputs": [
    {
     "data": {
      "text/html": [
       "<div>\n",
       "<style scoped>\n",
       "    .dataframe tbody tr th:only-of-type {\n",
       "        vertical-align: middle;\n",
       "    }\n",
       "\n",
       "    .dataframe tbody tr th {\n",
       "        vertical-align: top;\n",
       "    }\n",
       "\n",
       "    .dataframe thead th {\n",
       "        text-align: right;\n",
       "    }\n",
       "</style>\n",
       "<table border=\"1\" class=\"dataframe\">\n",
       "  <thead>\n",
       "    <tr style=\"text-align: right;\">\n",
       "      <th></th>\n",
       "      <th>count</th>\n",
       "      <th>mean</th>\n",
       "      <th>std</th>\n",
       "      <th>min</th>\n",
       "      <th>25%</th>\n",
       "      <th>50%</th>\n",
       "      <th>75%</th>\n",
       "      <th>max</th>\n",
       "    </tr>\n",
       "  </thead>\n",
       "  <tbody>\n",
       "    <tr>\n",
       "      <th>Sales</th>\n",
       "      <td>56574.0</td>\n",
       "      <td>7007.490331</td>\n",
       "      <td>3526.209357</td>\n",
       "      <td>798.0</td>\n",
       "      <td>4649.0</td>\n",
       "      <td>6190.0</td>\n",
       "      <td>8314.0</td>\n",
       "      <td>35697.0</td>\n",
       "    </tr>\n",
       "    <tr>\n",
       "      <th>Customers</th>\n",
       "      <td>56574.0</td>\n",
       "      <td>887.150864</td>\n",
       "      <td>560.104866</td>\n",
       "      <td>111.0</td>\n",
       "      <td>531.0</td>\n",
       "      <td>746.0</td>\n",
       "      <td>1027.0</td>\n",
       "      <td>4911.0</td>\n",
       "    </tr>\n",
       "    <tr>\n",
       "      <th>CompetitionDistance</th>\n",
       "      <td>56574.0</td>\n",
       "      <td>655.789939</td>\n",
       "      <td>510.935744</td>\n",
       "      <td>20.0</td>\n",
       "      <td>220.0</td>\n",
       "      <td>460.0</td>\n",
       "      <td>1070.0</td>\n",
       "      <td>1890.0</td>\n",
       "    </tr>\n",
       "    <tr>\n",
       "      <th>Promo2</th>\n",
       "      <td>56574.0</td>\n",
       "      <td>0.657970</td>\n",
       "      <td>0.474394</td>\n",
       "      <td>0.0</td>\n",
       "      <td>0.0</td>\n",
       "      <td>1.0</td>\n",
       "      <td>1.0</td>\n",
       "      <td>1.0</td>\n",
       "    </tr>\n",
       "    <tr>\n",
       "      <th>Promo2SinceWeek</th>\n",
       "      <td>37224.0</td>\n",
       "      <td>26.545911</td>\n",
       "      <td>14.910924</td>\n",
       "      <td>1.0</td>\n",
       "      <td>14.0</td>\n",
       "      <td>31.0</td>\n",
       "      <td>40.0</td>\n",
       "      <td>50.0</td>\n",
       "    </tr>\n",
       "    <tr>\n",
       "      <th>Promo2SinceYear</th>\n",
       "      <td>37224.0</td>\n",
       "      <td>2011.667285</td>\n",
       "      <td>1.562447</td>\n",
       "      <td>2009.0</td>\n",
       "      <td>2011.0</td>\n",
       "      <td>2012.0</td>\n",
       "      <td>2013.0</td>\n",
       "      <td>2015.0</td>\n",
       "    </tr>\n",
       "    <tr>\n",
       "      <th>Competition_Since_X_months</th>\n",
       "      <td>56574.0</td>\n",
       "      <td>0.000000</td>\n",
       "      <td>0.000000</td>\n",
       "      <td>0.0</td>\n",
       "      <td>0.0</td>\n",
       "      <td>0.0</td>\n",
       "      <td>0.0</td>\n",
       "      <td>0.0</td>\n",
       "    </tr>\n",
       "  </tbody>\n",
       "</table>\n",
       "</div>"
      ],
      "text/plain": [
       "                              count         mean          std     min     25%  \\\n",
       "Sales                       56574.0  7007.490331  3526.209357   798.0  4649.0   \n",
       "Customers                   56574.0   887.150864   560.104866   111.0   531.0   \n",
       "CompetitionDistance         56574.0   655.789939   510.935744    20.0   220.0   \n",
       "Promo2                      56574.0     0.657970     0.474394     0.0     0.0   \n",
       "Promo2SinceWeek             37224.0    26.545911    14.910924     1.0    14.0   \n",
       "Promo2SinceYear             37224.0  2011.667285     1.562447  2009.0  2011.0   \n",
       "Competition_Since_X_months  56574.0     0.000000     0.000000     0.0     0.0   \n",
       "\n",
       "                               50%     75%      max  \n",
       "Sales                       6190.0  8314.0  35697.0  \n",
       "Customers                    746.0  1027.0   4911.0  \n",
       "CompetitionDistance          460.0  1070.0   1890.0  \n",
       "Promo2                         1.0     1.0      1.0  \n",
       "Promo2SinceWeek               31.0    40.0     50.0  \n",
       "Promo2SinceYear             2012.0  2013.0   2015.0  \n",
       "Competition_Since_X_months     0.0     0.0      0.0  "
      ]
     },
     "execution_count": 23,
     "metadata": {},
     "output_type": "execute_result"
    }
   ],
   "source": [
    "# data = pd.read_csv(\"./data/rossmann.csv\")\n",
    "# df = f.clean_data(data)\n",
    "df[['Sales', \n",
    "    'Customers', \n",
    "    'CompetitionDistance', \n",
    "    'Promo2', \n",
    "    'Promo2SinceWeek', \n",
    "    'Promo2SinceYear',\n",
    "    'PromoInterval', \n",
    "    'Competition_Since_X_months']].describe().T"
   ]
  },
  {
   "cell_type": "code",
   "execution_count": null,
   "metadata": {},
   "outputs": [],
   "source": []
  }
 ],
 "metadata": {
  "kernelspec": {
   "display_name": "streamlit_app-AsdBqM_D",
   "language": "python",
   "name": "python3"
  },
  "language_info": {
   "codemirror_mode": {
    "name": "ipython",
    "version": 3
   },
   "file_extension": ".py",
   "mimetype": "text/x-python",
   "name": "python",
   "nbconvert_exporter": "python",
   "pygments_lexer": "ipython3",
   "version": "3.8.17"
  },
  "orig_nbformat": 4
 },
 "nbformat": 4,
 "nbformat_minor": 2
}
